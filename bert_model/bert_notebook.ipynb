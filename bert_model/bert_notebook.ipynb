{
 "cells": [
  {
   "cell_type": "code",
   "execution_count": null,
   "metadata": {
    "collapsed": true,
    "pycharm": {
     "is_executing": false,
     "name": "#%%\n"
    }
   },
   "outputs": [],
   "source": [
    "import torch\n",
    "from pytorch_pretrained_bert import BertTokenizer, BertModel, BertForMaskedLM\n",
    "\n",
    "# OPTIONAL: if you want to have more information on what's happening, activate the logger as follows\n",
    "import logging\n",
    "logging.basicConfig(level=logging.INFO)\n",
    "\n",
    "from sentence_transformers import SentenceTransformer\n",
    "\n",
    "# Load pre-trained model tokenizer (vocabulary)\n",
    "# tokenizer = BertTokenizer.from_pretrained('bert-base-uncased')\n",
    "\n",
    "embedder = SentenceTransformer('bert-base-nli-mean-tokens')\n",
    "\n",
    "def strip_apostrophes(row):\n",
    "    new_string = str(row).replace(\"'\",\"\")\n",
    "    print(new_string)\n",
    "    new_string = \"'\" + new_string + \"'\"\n",
    "    return new_string\n",
    "\n",
    "import pandas\n",
    "songs = pandas.read_csv('/Users/m_vys/Documents/matfyz/bakalar/bakalarka/all_songs_with_file_paths copy', sep=';', \n",
    "                        header=None, index_col=False, names =['artist', 'title', 'lyrics', 'youtube_link', 'path'])\n",
    "lyrics = songs['lyrics']\n",
    "lyrics = lyrics.apply(lambda x: strip_apostrophes(x))\n",
    "\n",
    "print(lyrics.shape)\n",
    "lyrics = lyrics.tolist()\n",
    "sentence_embeddings = embedder.encode(lyrics, show_progress_bar=True)\n",
    "\n",
    "import numpy\n",
    "numpy.save('bert-base-nli-mean-tokens_lyrics_encoding', sentence_embeddings)\n",
    "\n",
    "for sentence, embedding in zip(lyrics, sentence_embeddings):\n",
    "    print(\"Sentence:\", sentence)\n",
    "    print(\"Embedding:\", embedding)\n",
    "    print(\"\")\n",
    "\n",
    "\n",
    "\n",
    "\n"
   ]
  }
 ],
 "metadata": {
  "kernelspec": {
   "display_name": "Python 3",
   "language": "python",
   "name": "python3"
  },
  "language_info": {
   "codemirror_mode": {
    "name": "ipython",
    "version": 2
   },
   "file_extension": ".py",
   "mimetype": "text/x-python",
   "name": "python",
   "nbconvert_exporter": "python",
   "pygments_lexer": "ipython2",
   "version": "2.7.6"
  },
  "pycharm": {
   "stem_cell": {
    "cell_type": "raw",
    "source": [],
    "metadata": {
     "collapsed": false
    }
   }
  }
 },
 "nbformat": 4,
 "nbformat_minor": 0
}